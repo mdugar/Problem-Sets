{
 "cells": [
  {
   "cell_type": "markdown",
   "metadata": {},
   "source": [
    "# Lab 12 - RNA Sequencing through Expectation Maximization\n",
    "\n",
    "#### Authors:\n",
    "\n",
    "v1.0 (2014 Fall) Rishi Sharma \\*, Sahaana Suri \\*,  Paul Rigge \\*, Kangwook Lee \\*, Kannan Ramchandran \\* <br />\n",
    "v1.1 (2015 Fall) Kabir Chandrasekher \\*\\*, Max Kanwal \\*\\*, Kangwook Lee \\*, Kannan Ramchandran \\* <br />\n",
    "v1.2 (2016 Spring) Tony Duan \\*\\*\\*, Ashvin Nair \\*\\*\\*, David Marn \\*\\*\\*, Kabir Chandrasekher \\*\\*, Kangwook Lee \\*, Kannan Ramchandran \\*"
   ]
  },
  {
   "cell_type": "markdown",
   "metadata": {},
   "source": [
    "## Table of Contents\n",
    "\n",
    "\n",
    "- [Introduction](#Introduction)\n",
    "- [MLE for a simple model](#Question-1----Simple-Model)\n",
    "- [MLE for a harder model](#Question-2----Harder-Model)\n",
    "- [EM algorithm for the harder model](#Question-3----EM-Algorithm)\n",
    "- [References](#References)"
   ]
  },
  {
   "cell_type": "markdown",
   "metadata": {},
   "source": [
    "## Introduction\n",
    "\n",
    "The problem of [RNA sequencing](http://en.wikipedia.org/wiki/RNA-Seq) is to figure out how much and what type of RNA is present in a genome at a given moment in time. It has many applications including genome annotation, comprehensive identification of fusions in cancer, discovery of novel isoforms of genes, and genome sequence assembly [[1][2]](#References).\n",
    "\n",
    "For our purposes, we'll formulate the problem as follows: given a set of short reads that are sampled from a set of larger genes, how can we find the relative abundance of each gene? That is, given just the short reads, how do we know how frequently each original gene occurs? This process is depicted in Figure 1. (Aside: in the actual paper, these \"genes\" are actually \"transcripts,\" but that's not relevant for us.)\n",
    "\n",
    "<img src=\"http://i.imgur.com/61e7d16.jpg\" title=\"source: imgur.com\" />\n",
    "\n",
    "#### <center>Figure 1: We want to use the reads to guess the underlying proportion.</center>"
   ]
  },
  {
   "cell_type": "markdown",
   "metadata": {},
   "source": [
    "It turns out we can use some methods we learned in class (MLE & EM) to solve this problem -- let's try it out.\n",
    "\n",
    "We assume that all genes are of the same length, $\\ell_t$, and all reads are of the same length, $\\ell_x$. Then, we assume the following Bayesian generative model:\n",
    "\n",
    "1. A read comes from a randomly chosen gene $t_i$\n",
    "2. A read's starting point is randomly chosen among all possible $\\ell_t$ starting positions in that gene\n",
    "\n",
    "Given a set of reads $X = \\{X_1 \\ldots X_n\\}$, we want to figure out what distribution $\\rho = \\{ \\rho_1 \\ldots \\rho_m \\}$ over the genes was most likely to give us the reads $X$. To do this, we'll need to maximize the following likelihood function:\n",
    "\n",
    "$$ L(\\rho) = \\prod_{i=1}^{N}{  P(X_i|\\rho)  } $$"
   ]
  },
  {
   "cell_type": "markdown",
   "metadata": {},
   "source": [
    "## Question 1 (Optional) -- Simple Model\n",
    "\n",
    "To make life easier, we're first going to assume no read is ambiguous. That is -- given a read, we can immediately tell which gene it came from. (In practice, this means we would have to know the chart mapping each color to a gene, as in Figure 1.)"
   ]
  },
  {
   "cell_type": "markdown",
   "metadata": {},
   "source": [
    "### 1a. Suppose you are given a read $X_i$ -- what is $P(X_i|\\rho)$?\n",
    "\n",
    "Your solution should take both the gene lengths and the read lengths into consideration. Denote the probability of seeing a specific gene as $\\rho_{t_i}$.\n",
    "\n",
    "Hint: how many possible starting positions exist for $X_i$?"
   ]
  },
  {
   "cell_type": "markdown",
   "metadata": {},
   "source": [
    "= P("
   ]
  },
  {
   "cell_type": "markdown",
   "metadata": {},
   "source": [
    "### 1b. Assume that you have two genes. Find the MLE of $\\rho$ if you find $x$ reads compatible with gene $1$, and $n-x$ reads compatible with gene $2$. "
   ]
  },
  {
   "cell_type": "markdown",
   "metadata": {},
   "source": [
    "*Your answer here*"
   ]
  },
  {
   "cell_type": "markdown",
   "metadata": {},
   "source": [
    "### 1c. Assume you have $M$ genes. Out of $n$ reads, $x_i$ reads are compatible with gene $i$, where $\\sum_{i=1}^{M}{x_i} = n$. Find the maximum likelihood estimator of $\\rho$. \n",
    "\n",
    "Hint: you might just be able to make an \"educated guess\" from your answer above. "
   ]
  },
  {
   "cell_type": "markdown",
   "metadata": {},
   "source": [
    "*Your answer here.*"
   ]
  },
  {
   "cell_type": "markdown",
   "metadata": {},
   "source": [
    "## Question 2 -- Harder Model\n",
    "\n",
    "Life gets harder when you allow for ambiguous reads. Going back to the figure above, we can imagine a case where we don't know which color a read belongs to, but we have a rough idea of the possible colors it could have been. See the modified figure below.\n",
    "\n",
    "<img src=\"http://i.imgur.com/5qOUtbt.jpg\" title=\"source: imgur.com\" />\n",
    "#### <center> Figure 2 </center>\n",
    "In this portion, we'll consider a general problem where a read is aligned with possibly more than one gene. \n",
    "\n",
    "First, we define a compatibility matrix $A \\in \\{0,1\\}^{n \\times m} = \\{a_{i,j}\\}$, where $a_{i,j}$ is $1$ if read $i$ is aligned with gene $j$, $0$ otherwise. "
   ]
  },
  {
   "cell_type": "markdown",
   "metadata": {},
   "source": [
    "As a motivating example, let's assume we have $3$ genes and $5$ reads aligned as follows:\n",
    "\n",
    "(ref: pp16-17 Pachter 2011)\n",
    "\n",
    "<img src=\"http://i.imgur.com/a0ZtnSV.png\">\n",
    "#### <center> Figure 3: Each read is a subset of some gene, and it can be compatible with multiple genes.</center>\n",
    "\n",
    "### 2a. Find the compatibility matrix $A$ for the above figure."
   ]
  },
  {
   "cell_type": "markdown",
   "metadata": {},
   "source": [
    "[[1,1,1],\n",
    " [0,1,1],\n",
    " [1,0,1],\n",
    " [1,0,0],\n",
    " [1,1,0]]"
   ]
  },
  {
   "cell_type": "markdown",
   "metadata": {},
   "source": [
    "### 2b. Given an arbitrary compatibility matrix, write an expression to find the likelihood function for $\\rho$.\n",
    "\n",
    "You'll have to tweak your solution to the last portion by carefully considering how you can represent $P(X_i|\\rho)$ given the compatibility matrix $A$."
   ]
  },
  {
   "cell_type": "markdown",
   "metadata": {},
   "source": [
    "$=A[i,\\rho]*\\frac{1}{l_t - l_x}$"
   ]
  },
  {
   "cell_type": "markdown",
   "metadata": {},
   "source": [
    "## Question 3 -- EM Algorithm\n",
    "\n",
    "In general, it is not easy to find the exact maximum likelihood estimator of $\\rho$ if ambiguous reads exist. Instead, we can rely on iterative methods that we hope will converge to the true value. One way to go about this is via expectation maximization (EM), as you have seen in class. \n",
    "\n",
    "To recap, [here](http://ai.stanford.edu/~chuongdo/papers/em_tutorial.pdf) is a short tutorial that does a wonderful job of explaining all that you need to know about EM [[3]](#References)."
   ]
  },
  {
   "cell_type": "markdown",
   "metadata": {},
   "source": [
    "For our purposes, here is an EM algorithm that can be used. You'll be implementing it shortly, so read it carefully and understand why it works. \n",
    "\n",
    "1. Initialize $\\rho = (\\frac{1}{M}, \\frac{1}{M}, \\ldots, \\frac{1}{M})$, all genes are equally probable.\n",
    "2. Find the compatibility matrix $A$.\n",
    "3. Repeat the following until $\\rho$ converges:<br/>\n",
    "    a. Each reading $i$ corresponds to the $i$th row of $A$. Call this $\\mathcal{I}_i$.<br/>\n",
    "    b. Put the values of $\\rho$ in $\\mathcal{I}_i$ where $\\mathcal{I}_i$ is not zero. Then normalize the vector and replace the $i$th row of $A$ with the normalized vector.<br/>\n",
    "    c. Replace $\\rho$ such that for each gene $j$, $\\rho_j = \\frac{1}{N}\\sum_{i=1}^{N}{A_{i,j}}$\n",
    "\n",
    "The following figure is a visual representation of the algorithm (Ref: p17 Pachter 2011) [[1]](#References)."
   ]
  },
  {
   "cell_type": "markdown",
   "metadata": {},
   "source": [
    "<img src=\"http://imgur.com/S0SKEzP.png\" title=\"source: imgur.com\" />\n",
    "#### <center> Figure 4: Visualization of the EM algorithm we will use. </center>"
   ]
  },
  {
   "cell_type": "markdown",
   "metadata": {},
   "source": [
    "This is a lot to digest at once, so let's only look at the first step to begin with.\n",
    "\n",
    "There are three possible genes to analyze (red, green, blue). There are five reads (a,b,c,d,e) that align with different genes. Initially, you assume a uniform prior.\n",
    "\n",
    "1. E step. Reads are proportionately assigned to each of the genes they could have come from, according to the current distribution $\\rho$.\n",
    "2. M step. The distribution $\\rho$ is recalculated proportionally from the assigned read counts from the E step.\n",
    "\n",
    "For example, the abundance of red after the first M step is estimated by\n",
    "\n",
    "$$\\rho_1 = 0.47 = \\frac{0.33 + 0.5 + 1 + 0.5}{5}$$"
   ]
  },
  {
   "cell_type": "markdown",
   "metadata": {},
   "source": [
    "### 3a. Explain the above EM algorithm in your own words. Will it always find the MLE for $\\rho$? "
   ]
  },
  {
   "cell_type": "markdown",
   "metadata": {},
   "source": [
    "We take a guess at the initial distribution of $\\rho$, and then, using the data that we have, iteratively refine this guess until we converge at a stable value of $\\rho$. This will *not* always find the MLE for $\\rho$."
   ]
  },
  {
   "cell_type": "markdown",
   "metadata": {},
   "source": [
    "### 3b. Implement the above EM algorithm. Run it with the given set of reads & genes. What is your estimated $\\rho$?"
   ]
  },
  {
   "cell_type": "markdown",
   "metadata": {},
   "source": [
    "Let's begin by with a toy example. We'll start by making the relevant imports..."
   ]
  },
  {
   "cell_type": "code",
   "execution_count": 17,
   "metadata": {
    "collapsed": false
   },
   "outputs": [],
   "source": [
    "from __future__ import division\n",
    "import numpy as np\n",
    "import matplotlib.pyplot as plt\n",
    "%matplotlib inline"
   ]
  },
  {
   "cell_type": "markdown",
   "metadata": {},
   "source": [
    "Now we'll define our genes."
   ]
  },
  {
   "cell_type": "code",
   "execution_count": 18,
   "metadata": {
    "collapsed": true
   },
   "outputs": [],
   "source": [
    "transcripts = ['ATCTCGACGCACTGC', 'GAGTTCGAACTCTTC', 'AGAGTTCCAGTGTCA', 'AAAGCTCACTGCGGA', 'AGCGATATCAGAGTD']\n",
    "M = len(transcripts) "
   ]
  },
  {
   "cell_type": "markdown",
   "metadata": {},
   "source": [
    "We'll randomly generate the true distribution $\\rho$. "
   ]
  },
  {
   "cell_type": "code",
   "execution_count": 19,
   "metadata": {
    "collapsed": false
   },
   "outputs": [
    {
     "data": {
      "text/plain": [
       "<Container object of 5 artists>"
      ]
     },
     "execution_count": 19,
     "metadata": {},
     "output_type": "execute_result"
    },
    {
     "data": {
      "image/png": "[encoded data removed]",
      "text/plain": [
       "<matplotlib.figure.Figure at 0x10d59b4e0>"
      ]
     },
     "metadata": {},
     "output_type": "display_data"
    }
   ],
   "source": [
    "rho = np.random.rand(M)\n",
    "rho /= sum(rho)\n",
    "plt.bar(np.arange(M) + 0.6, rho, width=0.8)"
   ]
  },
  {
   "cell_type": "markdown",
   "metadata": {},
   "source": [
    "We'll then pick 1000 random reads of length 5 each."
   ]
  },
  {
   "cell_type": "code",
   "execution_count": 20,
   "metadata": {
    "collapsed": false
   },
   "outputs": [
    {
     "name": "stdout",
     "output_type": "stream",
     "text": [
      "First 10 reads... ['GAGTT', 'CGCAC', 'CTGCG', 'TTCCA', 'GAGTT', 'CGCAC', 'GAGTT', 'CGAAC', 'CCAGT', 'ACTCT']\n"
     ]
    }
   ],
   "source": [
    "def random_read( s, rho, L ):\n",
    "    chosen_seq = np.random.choice(s, p=rho)\n",
    "    start_idx = np.random.randint(0, len(chosen_seq) - L)\n",
    "    end_idx = start_idx + L\n",
    "    return chosen_seq[ start_idx:end_idx ]\n",
    "        \n",
    "N = 1000 # Number of reads\n",
    "L = 5\n",
    "\n",
    "reads = []\n",
    "for i in range(N):\n",
    "    reads.append( random_read(transcripts, rho, L) )\n",
    "    \n",
    "print('First 10 reads...', reads[0:10])"
   ]
  },
  {
   "cell_type": "markdown",
   "metadata": {},
   "source": [
    "In the code below, run the EM algorithm for 100 iterations and report your estimated distribution of $\\rho$."
   ]
  },
  {
   "cell_type": "code",
   "execution_count": 30,
   "metadata": {
    "collapsed": false
   },
   "outputs": [],
   "source": [
    "N_iter = 100 #number of E/M iterations\n",
    "\n",
    "def find_all_alignments(s, read):\n",
    "    tmp = []\n",
    "    for j in range(len(s)):\n",
    "        if read in s[j]:\n",
    "            tmp.append(j)\n",
    "    return tmp\n",
    "\n",
    "# A: Compatibility Matrix. \n",
    "# Note: You can choose to represent this matrix in whatever form is easiest for your calculations\n",
    "# The form we are pushing you towards here is just how we chose to implement the algorithm\n",
    "A = []\n",
    "for each_read in reads:\n",
    "    A.append( find_all_alignments(transcripts, each_read) )\n",
    "\n",
    "hidden_state_prior = np.zeros([N, M])\n",
    "rho_est = np.array([1/5, 1/5, 1/5, 1/5, 1/5])"
   ]
  },
  {
   "cell_type": "code",
   "execution_count": 35,
   "metadata": {
    "collapsed": false
   },
   "outputs": [],
   "source": [
    "for i in range(N_iter):\n",
    "    # 1. E step\n",
    "    for i in range(N):\n",
    "        validGenes = A[i]\n",
    "        for j in range(M):\n",
    "            if j in validGenes:\n",
    "                hidden_state_prior[i,j] = rho_est[j]*(1/10)\n",
    "            else:\n",
    "                hidden_state_prior[i,j] = 0    \n",
    "        hidden_state_prior[i] /= sum(hidden_state_prior[i])\n",
    "            \n",
    "\n",
    "        \n",
    "                \n",
    "    # 2. M step\n",
    "    rho_est = hidden_state_prior.sum(axis=0)\n",
    "    rho_est /= sum(rho_est)\n",
    "    "
   ]
  },
  {
   "cell_type": "markdown",
   "metadata": {},
   "source": [
    "Your estimated distribution should look similar to the real distribution."
   ]
  },
  {
   "cell_type": "code",
   "execution_count": 36,
   "metadata": {
    "collapsed": false
   },
   "outputs": [
    {
     "name": "stdout",
     "output_type": "stream",
     "text": [
      "(real) rho [ 0.3553295   0.18893396  0.18659584  0.12549704  0.14364365]\n",
      "(est.) rho [ 0.36607565  0.19969755  0.17446452  0.10892435  0.15083793]\n"
     ]
    }
   ],
   "source": [
    "print('(real) rho', rho)\n",
    "print('(est.) rho', rho_est)"
   ]
  },
  {
   "cell_type": "code",
   "execution_count": 37,
   "metadata": {
    "collapsed": false
   },
   "outputs": [
    {
     "data": {
      "image/png": "[encoded data removed]",
      "text/plain": [
       "<matplotlib.figure.Figure at 0x107a9a6d8>"
      ]
     },
     "metadata": {},
     "output_type": "display_data"
    }
   ],
   "source": [
    "plt.bar(np.arange(M) + 0.6, rho, color='blue', width=0.4, label='Real')\n",
    "plt.bar(np.arange(M) + 1, rho_est, color='green', width=0.4, label='Estimated')\n",
    "plt.legend()\n",
    "plt.show()"
   ]
  },
  {
   "cell_type": "markdown",
   "metadata": {},
   "source": [
    "### 3c. Run the same EM algorithm on our bigger dataset."
   ]
  },
  {
   "cell_type": "markdown",
   "metadata": {},
   "source": [
    "Let's try running the same algorithm on much more data. Here we have a dataset of 150 transcripts of length varying from 4 to 19. We've gathered 10000 reads from exactly 5 of them -- can you recover which 5 transcripts we gathered the reads from?"
   ]
  },
  {
   "cell_type": "code",
   "execution_count": null,
   "metadata": {
    "collapsed": true
   },
   "outputs": [],
   "source": [
    "M, N = 150, 10000\n",
    "transcripts = np.load('transcripts.npy')\n",
    "reads = np.load('reads.npy')"
   ]
  },
  {
   "cell_type": "code",
   "execution_count": 38,
   "metadata": {
    "collapsed": false
   },
   "outputs": [
    {
     "name": "stdout",
     "output_type": "stream",
     "text": [
      "['ATCTCGACGCACTGC', 'GAGTTCGAACTCTTC', 'AGAGTTCCAGTGTCA', 'AAAGCTCACTGCGGA', 'AGCGATATCAGAGTD']\n",
      "['GAGTT', 'CGCAC', 'CTGCG', 'TTCCA', 'GAGTT', 'CGCAC', 'GAGTT', 'CGAAC', 'CCAGT', 'ACTCT', 'TTCGA', 'TCGAC', 'ATCTC', 'TCGAA', 'CACTG', 'CTGCG', 'CACTG', 'TCCAG', 'GAGTT', 'GAACT', 'ATCTC', 'CTCAC', 'TCGAC', 'CGACG', 'TTCGA', 'AGTTC', 'GCACT', 'CGCAC', 'TTCCA', 'TCTCG', 'CTCTT', 'GACGC', 'TCTCG', 'TCGAA', 'TATCA', 'CCAGT', 'TATCA', 'TCGAA', 'CACTG', 'CACTG', 'AGAGT', 'TCTCG', 'CTCAC', 'TCAGA', 'ATCTC', 'ATATC', 'AGTTC', 'ACGCA', 'AGTTC', 'AGTTC', 'CTCGA', 'CACTG', 'CGACG', 'CGCAC', 'CGAAC', 'TCGAC', 'AGTTC', 'TCCAG', 'CACTG', 'AAAGC', 'GAGTT', 'CGACG', 'TCAGA', 'GATAT', 'GAGTT', 'GTGTC', 'AGCTC', 'AAAGC', 'AGTGT', 'CTCGA', 'CGCAC', 'AAGCT', 'CACTG', 'ATCAG', 'GTGTC', 'GTTCC', 'GACGC', 'CTCAC', 'CTCTT', 'GATAT', 'GCGAT', 'CGAAC', 'CGAAC', 'CACTG', 'CGACG', 'CGCAC', 'AGAGT', 'TCACT', 'TCAGA', 'AGTGT', 'GCTCA', 'GATAT', 'TCGAC', 'TCTCG', 'CAGAG', 'GAGTT', 'CACTG', 'TATCA', 'AAAGC', 'CGCAC', 'CGATA', 'GCACT', 'GACGC', 'GACGC', 'AGCGA', 'TCGAC', 'ACGCA', 'CGAAC', 'ATCTC', 'AGTTC', 'CGACG', 'CGACG', 'TCGAC', 'CACTG', 'AGAGT', 'TATCA', 'TCACT', 'GCACT', 'TTCCA', 'GAACT', 'TATCA', 'GATAT', 'AAGCT', 'TCTCG', 'CCAGT', 'ATCAG', 'TCGAC', 'TTCCA', 'AACTC', 'GTTCC', 'TCGAA', 'AAAGC', 'CGCAC', 'TCTCG', 'GCACT', 'AGTTC', 'GAGTT', 'GACGC', 'TCCAG', 'ATCTC', 'GATAT', 'GTTCG', 'CGCAC', 'AGCGA', 'ACGCA', 'CGAAC', 'GCGAT', 'GCACT', 'GTTCG', 'TCGAA', 'TCTCG', 'TCAGA', 'GCACT', 'TCGAC', 'GCACT', 'GCACT', 'AGTGT', 'ACGCA', 'GCACT', 'TCTCG', 'GAACT', 'AGAGT', 'CTCGA', 'TCGAC', 'AGAGT', 'ATCTC', 'AGTTC', 'TCGAA', 'CAGTG', 'ACTCT', 'ATCTC', 'CGCAC', 'TGCGG', 'AACTC', 'CGAAC', 'AGTTC', 'ATCTC', 'TTCGA', 'ACTGC', 'ACTCT', 'TCACT', 'CACTG', 'CGATA', 'TTCGA', 'CACTG', 'TCACT', 'GTTCC', 'TCACT', 'AGCGA', 'GTTCC', 'ACTGC', 'GTTCG', 'CTCTT', 'GAGTT', 'AGAGT', 'CGACG', 'GACGC', 'CTCAC', 'AGAGT', 'GAGTT', 'AACTC', 'TCTCG', 'CTCGA', 'TCAGA', 'CGACG', 'CTCGA', 'GCACT', 'AGTTC', 'ACGCA', 'CGCAC', 'AGCGA', 'AGTGT', 'CTCTT', 'CACTG', 'AGTTC', 'CGACG', 'TCACT', 'TCAGA', 'AGTTC', 'TCGAA', 'GCGAT', 'CGCAC', 'AGTTC', 'GCACT', 'GTGTC', 'TCCAG', 'ACGCA', 'ACGCA', 'GCGAT', 'ACGCA', 'ATCTC', 'AGAGT', 'GCACT', 'GCACT', 'GCGAT', 'GACGC', 'TTCCA', 'TCGAC', 'ATCAG', 'CTCTT', 'ATCTC', 'GCACT', 'TGCGG', 'GATAT', 'GTGTC', 'GTGTC', 'AACTC', 'CGACG', 'TCGAA', 'ATCTC', 'CTCGA', 'CCAGT', 'TCGAC', 'CTCTT', 'GTGTC', 'GATAT', 'GCTCA', 'CGACG', 'GTTCC', 'ACGCA', 'AAGCT', 'CGACG', 'AGAGT', 'TATCA', 'TCGAA', 'TCTCG', 'CCAGT', 'CGACG', 'GAGTT', 'GTTCC', 'TCGAC', 'TCTCG', 'TCGAA', 'GAACT', 'TCGAC', 'CGCAC', 'TCGAC', 'TCTCG', 'AGTGT', 'CACTG', 'GCACT', 'TCGAC', 'AGTTC', 'TATCA', 'ACGCA', 'AGTGT', 'GCACT', 'CGATA', 'CGACG', 'GAGTT', 'CCAGT', 'TCTCG', 'CCAGT', 'CGAAC', 'GTGTC', 'GCACT', 'CTCTT', 'CGATA', 'CTCGA', 'GCGAT', 'CGCAC', 'GCGAT', 'TCTCG', 'TTCGA', 'TCTCG', 'GACGC', 'TCTCG', 'TCGAC', 'ACGCA', 'ACGCA', 'ACGCA', 'CAGAG', 'CACTG', 'GCGAT', 'CACTG', 'TTCGA', 'CACTG', 'ACTCT', 'TTCCA', 'CCAGT', 'GAGTT', 'ACTGC', 'CGCAC', 'GAGTT', 'GACGC', 'CTCTT', 'AGTTC', 'CGCAC', 'TCGAA', 'ACTCT', 'AGAGT', 'GTGTC', 'TCGAC', 'AAGCT', 'CGACG', 'CGATA', 'CGCAC', 'GAGTT', 'TCACT', 'AGTTC', 'ACGCA', 'CGACG', 'ATCTC', 'GCTCA', 'CTGCG', 'CTGCG', 'GAGTT', 'GCGAT', 'TCTCG', 'CGCAC', 'CGACG', 'CCAGT', 'CGACG', 'ACGCA', 'CTCTT', 'CTCGA', 'GAGTT', 'TTCGA', 'AAAGC', 'AAGCT', 'ATCTC', 'TTCCA', 'TTCCA', 'ATCAG', 'GTTCC', 'CTCTT', 'GTTCG', 'GAGTT', 'TCAGA', 'CGCAC', 'AACTC', 'GATAT', 'TGCGG', 'GCGAT', 'ACGCA', 'GTTCG', 'GCTCA', 'AGCGA', 'GTGTC', 'CACTG', 'GCACT', 'GACGC', 'GAGTT', 'CACTG', 'TCACT', 'TCGAC', 'AGTGT', 'GAGTT', 'GCACT', 'CTCGA', 'GCACT', 'GATAT', 'ATCAG', 'ATATC', 'TCGAA', 'CACTG', 'CAGAG', 'AGCTC', 'AGAGT', 'TCACT', 'CGAAC', 'AAGCT', 'AGTGT', 'ACTGC', 'CAGAG', 'GACGC', 'CGCAC', 'GAACT', 'AAAGC', 'GCACT', 'CTCGA', 'CTCTT', 'ATATC', 'ACTGC', 'CTCGA', 'TGCGG', 'CTCAC', 'CTCAC', 'TCGAC', 'GAGTT', 'GAGTT', 'GCACT', 'CAGTG', 'GCACT', 'TCGAC', 'CGATA', 'GAGTT', 'AGCTC', 'CACTG', 'GAGTT', 'GCACT', 'CGACG', 'GATAT', 'GCGAT', 'CACTG', 'CACTG', 'GAACT', 'CACTG', 'TCGAC', 'TCTCG', 'CTCGA', 'CGACG', 'ATATC', 'AGTTC', 'GAACT', 'CTCGA', 'GAACT', 'CGACG', 'TCTCG', 'TCCAG', 'CGACG', 'CAGTG', 'GCTCA', 'GCACT', 'TGCGG', 'GAGTT', 'AGAGT', 'GAACT', 'CGACG', 'GCGAT', 'TCTCG', 'GAGTT', 'CGACG', 'CACTG', 'AGCGA', 'CGACG', 'CACTG', 'CGCAC', 'AGTGT', 'GAGTT', 'ATCTC', 'CGAAC', 'CAGTG', 'AAAGC', 'CTCGA', 'CGACG', 'TCGAA', 'TCGAC', 'ACTGC', 'GCACT', 'ATCAG', 'CTCTT', 'CCAGT', 'CGAAC', 'CGACG', 'TCGAA', 'CGATA', 'CAGTG', 'AGAGT', 'TCGAA', 'TCAGA', 'GACGC', 'GTTCG', 'TGCGG', 'CTGCG', 'TCGAA', 'CAGTG', 'AGAGT', 'CGAAC', 'ACGCA', 'CTCGA', 'CGAAC', 'AGAGT', 'GTGTC', 'GCACT', 'GTTCG', 'CGAAC', 'TCGAC', 'TCGAA', 'AACTC', 'CACTG', 'GTTCC', 'CACTG', 'GACGC', 'GCGAT', 'TCTCG', 'GACGC', 'CGATA', 'ATCAG', 'ACGCA', 'ACGCA', 'ACGCA', 'AGTTC', 'ATCTC', 'CTGCG', 'AGAGT', 'TCTCG', 'CGACG', 'GTTCG', 'ACGCA', 'TCCAG', 'TATCA', 'ATCAG', 'ATCTC', 'TCAGA', 'GCACT', 'CGACG', 'TCGAA', 'ACTCT', 'TGCGG', 'CTCGA', 'GTTCC', 'CTCGA', 'GAACT', 'GATAT', 'TCCAG', 'ACGCA', 'GATAT', 'ACTCT', 'GTTCG', 'CCAGT', 'GTTCG', 'CGCAC', 'GCTCA', 'GATAT', 'CGAAC', 'ACTGC', 'TCCAG', 'AACTC', 'AAAGC', 'TCCAG', 'CGATA', 'AAGCT', 'GACGC', 'GACGC', 'ATCTC', 'TCTCG', 'CAGAG', 'CGACG', 'GAACT', 'CTCAC', 'ACTGC', 'TCTCG', 'CGCAC', 'CGATA', 'GAGTT', 'ACTGC', 'AGTGT', 'TCGAC', 'TGCGG', 'GACGC', 'CTCAC', 'TTCCA', 'TCGAA', 'ACGCA', 'GTTCG', 'ACTCT', 'GCTCA', 'GTGTC', 'GTTCG', 'AACTC', 'CTCTT', 'GCACT', 'AGAGT', 'CGACG', 'CTGCG', 'CGACG', 'ACTGC', 'GTTCG', 'TATCA', 'GAGTT', 'TTCCA', 'CGCAC', 'CTCTT', 'AAAGC', 'GAGTT', 'AGCTC', 'ATCTC', 'GTGTC', 'GTGTC', 'CGATA', 'GCACT', 'CGATA', 'GTGTC', 'ATATC', 'CAGTG', 'AGTTC', 'CGACG', 'GCACT', 'CTCGA', 'CTCAC', 'TCAGA', 'CTCGA', 'GTTCG', 'TTCGA', 'ATCAG', 'CGCAC', 'TCGAC', 'ACTCT', 'GCGAT', 'CGAAC', 'CAGAG', 'CTGCG', 'ATCAG', 'GAGTT', 'CAGAG', 'CGACG', 'ACGCA', 'CGATA', 'CAGAG', 'CTCAC', 'GTTCG', 'CTCGA', 'TTCGA', 'CGAAC', 'AACTC', 'AGAGT', 'TATCA', 'ACTCT', 'GAGTT', 'CGAAC', 'AGTTC', 'GACGC', 'AGAGT', 'ATCTC', 'CACTG', 'GTTCC', 'GACGC', 'CGACG', 'AGTTC', 'GACGC', 'CGCAC', 'CAGTG', 'GATAT', 'ACGCA', 'ACGCA', 'GAGTT', 'ATCTC', 'AAAGC', 'CGACG', 'TCGAA', 'TCGAC', 'AGCGA', 'CGATA', 'AGTTC', 'CTCAC', 'CAGAG', 'AAAGC', 'CAGAG', 'GAGTT', 'CGCAC', 'TATCA', 'GCACT', 'ATCAG', 'AGTTC', 'GCGAT', 'TCGAC', 'AGAGT', 'ATCTC', 'TCAGA', 'TTCCA', 'GTTCG', 'CGACG', 'AGTTC', 'AGAGT', 'GCACT', 'ACGCA', 'CTGCG', 'CTCGA', 'CACTG', 'CACTG', 'CGAAC', 'AGTGT', 'GTGTC', 'CAGTG', 'CACTG', 'TCGAC', 'CGAAC', 'TCTCG', 'GAACT', 'CCAGT', 'CTCAC', 'AGTGT', 'CTCGA', 'GCACT', 'GATAT', 'TTCCA', 'CTCAC', 'GCACT', 'GTTCG', 'TCCAG', 'CCAGT', 'TTCCA', 'CTCGA', 'AGTGT', 'CTCAC', 'TCGAC', 'AGCGA', 'ACGCA', 'GCACT', 'CTCGA', 'ACTGC', 'AGTTC', 'AGTTC', 'AGCTC', 'ATCTC', 'CGCAC', 'CGAAC', 'CGACG', 'GCGAT', 'CTCTT', 'GTTCC', 'CGCAC', 'TTCGA', 'AGAGT', 'CAGTG', 'ATATC', 'GTTCC', 'ATATC', 'CGAAC', 'TCACT', 'CTCTT', 'ACTCT', 'TCGAC', 'GCACT', 'AGTTC', 'TTCCA', 'CGATA', 'AGAGT', 'CTCAC', 'GTTCG', 'CACTG', 'CCAGT', 'TCTCG', 'AAGCT', 'GCACT', 'GAGTT', 'ACTCT', 'TCTCG', 'ACGCA', 'GAACT', 'CTCTT', 'TCGAC', 'AGAGT', 'CTCGA', 'GATAT', 'AGAGT', 'CACTG', 'GAGTT', 'CGCAC', 'CCAGT', 'ACGCA', 'GCACT', 'TTCGA', 'CTCTT', 'CAGAG', 'CACTG', 'GTTCG', 'GAACT', 'GATAT', 'GAGTT', 'CACTG', 'ATCTC', 'ACGCA', 'AGTTC', 'ATCTC', 'GCACT', 'AAGCT', 'GATAT', 'GTGTC', 'TTCGA', 'ACTCT', 'GTGTC', 'CTCGA', 'GAGTT', 'GTTCG', 'GAGTT', 'GTGTC', 'TCACT', 'CGATA', 'AGTTC', 'CGAAC', 'TCCAG', 'CGCAC', 'GTTCG', 'CACTG', 'GTGTC', 'AGCGA', 'AGAGT', 'GAGTT', 'GTGTC', 'TCACT', 'GTTCC', 'TGCGG', 'TCAGA', 'AGCTC', 'GTTCC', 'AGTTC', 'CACTG', 'TCGAA', 'TCCAG', 'TCACT', 'GACGC', 'ATCAG', 'AGTGT', 'TCAGA', 'GTTCC', 'GCACT', 'AGCGA', 'GTGTC', 'AACTC', 'TTCCA', 'CAGTG', 'GTGTC', 'CACTG', 'AGCTC', 'CCAGT', 'GACGC', 'TCACT', 'GCACT', 'GCACT', 'CGACG', 'GTTCG', 'GTTCC', 'CTCTT', 'TCGAA', 'GAGTT', 'GCACT', 'TATCA', 'CTCTT', 'TCGAC', 'CAGTG', 'CTCGA', 'ACTGC', 'GTGTC', 'ACGCA', 'CTCGA', 'ACGCA', 'ATCTC', 'GAACT', 'TCAGA', 'ACGCA', 'CTCTT', 'CGACG', 'TCGAA', 'GCGAT', 'CTGCG', 'ACGCA', 'TCCAG', 'CTCGA', 'CGATA', 'ACGCA', 'GACGC', 'GAGTT', 'ACGCA', 'ACGCA', 'AACTC', 'CTCTT', 'ACGCA', 'CGATA', 'TCTCG', 'AGTGT', 'ATATC', 'AAAGC', 'GTTCG', 'CGACG', 'AGAGT', 'CGCAC', 'CGACG', 'ACTCT', 'TATCA', 'CCAGT', 'CTCTT', 'TCGAA', 'AGCGA', 'CAGAG', 'GCTCA', 'GCACT', 'GCACT', 'TGCGG', 'AGCGA', 'TCTCG', 'AAGCT', 'AAAGC', 'GACGC', 'CTGCG', 'AGAGT', 'TCTCG', 'GTTCC', 'CTCTT', 'AGTTC', 'AGTGT', 'GATAT', 'GTGTC', 'GAGTT', 'TCGAC', 'AGAGT', 'CGACG', 'GAACT', 'AGTTC', 'GACGC', 'CACTG', 'CCAGT', 'TCTCG', 'CGCAC', 'CGACG', 'AGTTC', 'GAACT', 'CTCAC', 'CGACG', 'CTGCG', 'GTTCG', 'TATCA', 'AGTGT', 'TCGAC', 'CCAGT', 'AGCGA', 'ATCTC', 'AGTTC', 'CTCGA', 'AGAGT', 'GCACT', 'AAGCT', 'GCGAT', 'GCTCA', 'CTCTT', 'CAGAG', 'AGAGT', 'CTCAC', 'CGACG', 'GCACT', 'GTTCG', 'GTGTC', 'CTCGA', 'CTCTT', 'AGTTC', 'ACTCT', 'CAGAG', 'AGTTC', 'GACGC', 'GAACT', 'GACGC', 'CGCAC', 'AAGCT', 'AGCTC', 'GCGAT', 'AACTC', 'GAGTT', 'GCACT', 'ACGCA', 'CGCAC', 'GCTCA', 'GCACT', 'GAACT', 'AGAGT', 'GCGAT', 'GCACT', 'CAGTG', 'CGCAC', 'ATCTC', 'GTGTC', 'AGCTC', 'CGCAC', 'TATCA', 'AGCGA', 'CAGAG', 'GCACT', 'CTCGA', 'ACTCT', 'TCAGA']\n"
     ]
    }
   ],
   "source": [
    "N_iter = 100 #number of E/M iterations\n",
    "\n",
    "def find_all_alignments(s, read):\n",
    "    tmp = []\n",
    "    for j in range(len(s)):\n",
    "        if read in s[j]:\n",
    "            tmp.append(j)\n",
    "    return tmp\n",
    "\n",
    "# A: Compatibility Matrix. \n",
    "# Note: You can choose to represent this matrix in whatever form is easiest for your calculations\n",
    "# The form we are pushing you towards here is just how we chose to implement the algorithm\n",
    "A = []\n",
    "for each_read in reads:\n",
    "    A.append( find_all_alignments(transcripts, each_read) )\n",
    "\n",
    "hidden_state_prior = np.zeros([N, M])\n",
    "rho_est = np.array([1/5, 1/5, 1/5, 1/5, 1/5])\n",
    "\n",
    "for i in range(N_iter):\n",
    "    # 1. E step\n",
    "    for i in range(N):\n",
    "        validGenes = A[i]\n",
    "        for j in range(M):\n",
    "            if j in validGenes:\n",
    "                hidden_state_prior[i,j] = rho_est[j]*(1/10)\n",
    "            else:\n",
    "                hidden_state_prior[i,j] = 0    \n",
    "        hidden_state_prior[i] /= sum(hidden_state_prior[i])\n",
    "            \n",
    "\n",
    "        \n",
    "                \n",
    "    # 2. M step\n",
    "    rho_est = hidden_state_prior.sum(axis=0)\n",
    "    rho_est /= sum(rho_est)\n",
    "    \n",
    "print('(est.) rho', rho_est)\n",
    "plt.bar(np.arange(M) + 1, rho_est, color='green', width=0.4, label='Estimated')\n",
    "plt.legend()\n",
    "plt.show()"
   ]
  },
  {
   "cell_type": "markdown",
   "metadata": {},
   "source": [
    "Congratulations -- you've just finished your last lab for EE 126!\n",
    "\n",
    "Take a minute to appreciate what you've accomplished throughout the semester. This class wasn't easy, but hopefully you've learned a lot! Come see us if you'd like some help figuring out where to go from here."
   ]
  },
  {
   "cell_type": "markdown",
   "metadata": {},
   "source": [
    "## References\n",
    "\n",
    "[1] L. Pachter. Models for transcript quantification from RNA-Seq. available at arXiv:1104.3889 [q-bio.GN], 2011. <br />\n",
    "[2] A. Roberts and L. Pachter, RNA-Seq and find: entering the RNA deep field, Genome Medicine, 3 (2011), 74.<br/>\n",
    "[3] C. Do and S. Batzoglou, What is the expectation maximization algorithm? Nature Biotechnology, 26 (2008), 8."
   ]
  }
 ],
 "metadata": {
  "kernelspec": {
   "display_name": "Python 3",
   "language": "python",
   "name": "python3"
  },
  "language_info": {
   "codemirror_mode": {
    "name": "ipython",
    "version": 3
   },
   "file_extension": ".py",
   "mimetype": "text/x-python",
   "name": "python",
   "nbconvert_exporter": "python",
   "pygments_lexer": "ipython3",
   "version": "3.5.0"
  }
 },
 "nbformat": 4,
 "nbformat_minor": 0
}
